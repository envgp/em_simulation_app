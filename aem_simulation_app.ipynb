{
 "cells": [
  {
   "cell_type": "code",
   "execution_count": 2,
   "id": "acf83d9a",
   "metadata": {},
   "outputs": [],
   "source": [
    "import numpy as np\n",
    "import matplotlib as mpl\n",
    "from matplotlib import pyplot as plt\n",
    "mpl.rcParams.update({'font.size':12})\n",
    "from SimPEG import maps\n",
    "import SimPEG.electromagnetics.time_domain as tdem\n",
    "from SimPEG import utils\n",
    "from ipywidgets import interactive, widgets\n",
    "\n",
    "class EMSIMULATIONAPP(object):\n",
    "    \"\"\"EMSIMULATIONAPP\"\"\"\n",
    "    def __init__(self):\n",
    "        super(EMSIMULATIONAPP, self).__init__()\n",
    "        self.n_layer = 3\n",
    "        self._initialize()\n",
    "        \n",
    "    def _initialize(self):         \n",
    "        stepoff_waveform = tdem.sources.StepOffWaveform()\n",
    "        receiver_location = np.array([13.25, 0., 30.])\n",
    "        receiver_orientation = \"z\"                    # \"x\", \"y\" or \"z\"\n",
    "        times = np.logspace(-5, -2, 31)               # time channels\n",
    "\n",
    "        receiver_list = [\n",
    "            tdem.receivers.PointMagneticFluxTimeDerivative(\n",
    "                receiver_location, times, orientation=receiver_orientation\n",
    "            )\n",
    "        ]\n",
    "\n",
    "        source_location = np.array([0., 0., 30.])  \n",
    "        source_radius = 10.\n",
    "        current_amplitude = 1.\n",
    "        source_orientation = 'z'\n",
    "        source_list = []\n",
    "        source_list.append(\n",
    "            tdem.sources.MagDipole(\n",
    "                receiver_list=receiver_list, location=source_location,\n",
    "                waveform=stepoff_waveform, orientation=source_orientation\n",
    "            )\n",
    "        )\n",
    "        survey = tdem.Survey(source_list)\n",
    "        wire_map = maps.Wires((\"sigma\", self.n_layer), (\"thickness\", self.n_layer-1))\n",
    "        self._simulation = tdem.Simulation1DLayered(\n",
    "            survey=survey, thicknessesMap=wire_map.thickness, sigmaMap=wire_map.sigma,\n",
    "        )\n",
    "    @property\n",
    "    def times(self):\n",
    "        src = self._simulation.survey.source_list[0]\n",
    "        return src.receiver_list[0].times\n",
    "    \n",
    "    def simulate(self, z, h, rho_background, rho_layer):\n",
    "        thicknesses = np.array([z, h])        \n",
    "        rho = np.array([rho_background, rho_layer, rho_background])\n",
    "        sigma = 1./rho\n",
    "        model = np.r_[sigma, thicknesses]\n",
    "        dpred = self._simulation.dpred(model)\n",
    "        return dpred\n",
    "    \n",
    "    def plot_data(self, z, h, rho_background, rho_layer, show):\n",
    "        thickness = np.r_[z, h]\n",
    "        rho = np.r_[rho_background, rho_layer, rho_background]\n",
    "        rho0 = np.r_[rho_background, rho_background, rho_background]\n",
    "        dpred = self.simulate(z, h, rho_background, rho_layer)\n",
    "        dpred0 = self.simulate(z, h, rho_background, rho_background)\n",
    "        difference = (dpred-dpred0) / dpred0 * 100\n",
    "        detectability = np.sqrt((difference**2).sum()/len(difference))\n",
    "        \n",
    "        fig, axs = plt.subplots(1,2, figsize=(10, 5))\n",
    "        utils.plot_1d_layer_model(thickness, rho0, ax=axs[0], **{'color':'C0', 'linestyle':'--'})\n",
    "        utils.plot_1d_layer_model(thickness, rho, ax=axs[0], **{'color':'C0'})                \n",
    "        if show=='data':\n",
    "            axs[1].loglog(self.times * 1e3, -dpred, color='C0')\n",
    "            axs[1].loglog(self.times * 1e3, -dpred0, color='C0', linestyle='--')\n",
    "            axs[1].set_ylabel(\"Voltage (V/A-m$^4$)\")\n",
    "        elif show=='difference':\n",
    "            axs[1].semilogx(self.times * 1e3, difference, color='C0')\n",
    "            axs[1].set_ylabel(\"Relative difference (%)\")\n",
    "        axs[1].set_title(\"Detectability={:.1f}%\".format(detectability))\n",
    "        axs[1].set_xlabel(\"Time (ms)\")    \n",
    "        axs[0].set_xlabel(\"Resistivity (Ohm-m)\")\n",
    "        axs[1].grid(which='both', alpha=0.2)\n",
    "        axs[0].set_title(\"Vertical resistivity profile\")\n",
    "        plt.tight_layout()\n",
    "        plt.show()\n",
    "        return     \n",
    "    \n",
    "    def interact_aem(self):\n",
    "        Q = interactive(\n",
    "            self.plot_data, \n",
    "            z=widgets.FloatText(value=20, description='$z$'),\n",
    "            h=widgets.FloatText(value=20, description='$h$'),\n",
    "            rho_background=widgets.FloatText(value=20, description='$\\\\rho_b$'),\n",
    "            rho_layer=widgets.FloatText(value=50, description='$\\\\rho_{\\\\text{layer}}$'),\n",
    "            show=widgets.RadioButtons(options=[\"data\", \"difference\"])\n",
    "        )\n",
    "        return Q"
   ]
  },
  {
   "cell_type": "code",
   "execution_count": 3,
   "id": "827cf310",
   "metadata": {},
   "outputs": [],
   "source": [
    "app  = EMSIMULATIONAPP()"
   ]
  },
  {
   "cell_type": "markdown",
   "id": "905d995d",
   "metadata": {},
   "source": [
    "## Airborne EM simulation app\n",
    "\n",
    "With this web application you can simulate signals from an airborne EM experiment.\n",
    "A layer is embedded in a homogenous background. Parameters defining the subsurface resistivity are:\n",
    "\n",
    "- $z$: depth the the top of the layer \n",
    "- $h$: thickness of the layer\n",
    "- $\\rho_{b}$: resistivity of the background\n",
    "- $\\rho_{layer}$: resistivity of the layer"
   ]
  },
  {
   "cell_type": "code",
   "execution_count": 4,
   "id": "8c056fce",
   "metadata": {
    "scrolled": false
   },
   "outputs": [
    {
     "data": {
      "application/vnd.jupyter.widget-view+json": {
       "model_id": "7ad4bf3d7d28443ba2e90643c736aeb5",
       "version_major": 2,
       "version_minor": 0
      },
      "text/plain": [
       "interactive(children=(FloatText(value=20.0, description='$z$'), FloatText(value=20.0, description='$h$'), Floa…"
      ]
     },
     "metadata": {},
     "output_type": "display_data"
    }
   ],
   "source": [
    "app.interact_aem()"
   ]
  },
  {
   "cell_type": "code",
   "execution_count": null,
   "id": "a0bcf000",
   "metadata": {},
   "outputs": [],
   "source": []
  }
 ],
 "metadata": {
  "kernelspec": {
   "display_name": "Python 3 (ipykernel)",
   "language": "python",
   "name": "python3"
  },
  "language_info": {
   "codemirror_mode": {
    "name": "ipython",
    "version": 3
   },
   "file_extension": ".py",
   "mimetype": "text/x-python",
   "name": "python",
   "nbconvert_exporter": "python",
   "pygments_lexer": "ipython3",
   "version": "3.8.5"
  }
 },
 "nbformat": 4,
 "nbformat_minor": 5
}
